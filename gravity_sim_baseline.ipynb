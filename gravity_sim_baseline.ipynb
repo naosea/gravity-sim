{
  "nbformat": 4,
  "nbformat_minor": 0,
  "metadata": {
    "colab": {
      "provenance": []
    },
    "kernelspec": {
      "name": "python3",
      "display_name": "Python 3"
    },
    "language_info": {
      "name": "python"
    }
  },
  "cells": [
    {
      "cell_type": "code",
      "execution_count": 18,
      "metadata": {
        "colab": {
          "base_uri": "https://localhost:8080/"
        },
        "id": "ztXOiSjANPoV",
        "outputId": "c769e700-71fd-46e1-a92e-bcb003233ea7"
      },
      "outputs": [
        {
          "output_type": "stream",
          "name": "stdout",
          "text": [
            "n = 10, Execution time: 0.0000 seconds\n",
            "n = 100, Execution time: 0.0002 seconds\n",
            "n = 500, Execution time: 0.0062 seconds\n",
            "n = 1000, Execution time: 0.0228 seconds\n",
            "n = 2000, Execution time: 0.0983 seconds\n",
            "n = 5000, Execution time: 0.6351 seconds\n"
          ]
        }
      ],
      "source": [
        "import time\n",
        "\n",
        "def my_o_n_squared_function(n):\n",
        "    for i in range(n):\n",
        "        for j in range(n):\n",
        "            # Perform some operation here\n",
        "            pass\n",
        "\n",
        "n_values = [10, 100, 500, 1000, 2000, 5000]  # Adjust these values as needed\n",
        "for n in n_values:\n",
        "    start_time = time.time()\n",
        "    my_o_n_squared_function(n)\n",
        "    end_time = time.time()\n",
        "    elapsed_time = end_time - start_time\n",
        "    print(f\"n = {n}, Execution time: {elapsed_time:.4f} seconds\")"
      ]
    },
    {
      "cell_type": "code",
      "source": [
        "import time\n",
        "import numpy as np\n",
        "\n",
        "def n_body_gravity_simulation(positions, velocities, masses, dt, iterations):\n",
        "    num_bodies = len(positions)\n",
        "    for i in range(0, iterations):\n",
        "        accelerations = np.zeros_like(positions)\n",
        "        for j in range(num_bodies):\n",
        "            total_force = np.zeros(2)\n",
        "            for k in range(num_bodies):\n",
        "                if j != k:\n",
        "                    distance_vector = positions[k] - positions[j]\n",
        "                    distance_squared = np.dot(distance_vector, distance_vector)\n",
        "                    distance = np.sqrt(distance_squared)\n",
        "                    force_magnitude = (masses[j] * masses[k]) / distance_squared\n",
        "                    total_force += force_magnitude * distance_vector / distance\n",
        "        velocities += accelerations * dt\n",
        "        positions += velocities * dt\n",
        "    return positions, velocities\n",
        "\n",
        "n_values = [30,31,32,33,34,35,36,37,38,39,40]\n",
        "dt = 0.01\n",
        "iterations = 1000\n",
        "for n in n_values:\n",
        "    positions = np.random.rand(n, 2)\n",
        "    velocities = np.zeros((n, 2))\n",
        "    masses = np.ones(n)\n",
        "    start_time = time.time()\n",
        "    n_body_gravity_simulation(positions, velocities, masses, dt, iterations)\n",
        "    end_time = time.time()\n",
        "    elapsed_time = (end_time - start_time) / iterations\n",
        "    print(f\"n = {n}, Execution time: {elapsed_time:.4f} seconds\")"
      ],
      "metadata": {
        "colab": {
          "base_uri": "https://localhost:8080/"
        },
        "id": "jsPX7b6_NTZ4",
        "outputId": "46e0db53-c09e-477a-b42b-5b7e26a70a23"
      },
      "execution_count": 19,
      "outputs": [
        {
          "output_type": "stream",
          "name": "stdout",
          "text": [
            "n = 30, Execution time: 0.0089 seconds\n",
            "n = 31, Execution time: 0.0090 seconds\n",
            "n = 32, Execution time: 0.0091 seconds\n",
            "n = 33, Execution time: 0.0101 seconds\n",
            "n = 34, Execution time: 0.0110 seconds\n",
            "n = 35, Execution time: 0.0118 seconds\n",
            "n = 36, Execution time: 0.0122 seconds\n",
            "n = 37, Execution time: 0.0132 seconds\n",
            "n = 38, Execution time: 0.0135 seconds\n",
            "n = 39, Execution time: 0.0144 seconds\n",
            "n = 40, Execution time: 0.0147 seconds\n"
          ]
        }
      ]
    },
    {
      "cell_type": "code",
      "source": [],
      "metadata": {
        "id": "PVFvS06dTUgT"
      },
      "execution_count": null,
      "outputs": []
    }
  ]
}